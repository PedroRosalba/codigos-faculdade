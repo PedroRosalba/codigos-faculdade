{
 "cells": [
  {
   "cell_type": "code",
   "execution_count": null,
   "metadata": {},
   "outputs": [],
   "source": [
    "import numpy as np\n",
    "from scipy import stats\n",
    "import random\n",
    "from scipy.spatial import ConvexHull\n",
    "import matplotlib.pyplot as plt"
   ]
  },
  {
   "cell_type": "markdown",
   "metadata": {},
   "source": [
    "Questao 1 "
   ]
  },
  {
   "cell_type": "code",
   "execution_count": null,
   "metadata": {},
   "outputs": [],
   "source": [
    "class TreeNode:\n",
    "    def __init__(self, val=0):\n",
    "        self.val = val\n",
    "        self.left = None\n",
    "        self.right = None\n",
    "\n",
    "def check_height(node):\n",
    "    if not node:\n",
    "        return 0\n",
    "\n",
    "    left_height = check_height(node.left)\n",
    "    right_height = check_height(node.right)\n",
    "\n",
    "    if left_height == -1 or right_height == -1:\n",
    "        return -1\n",
    "    \n",
    "    if abs(left_height - right_height) > 1:\n",
    "        return -1\n",
    "\n",
    "    return max(left_height, right_height) + 1\n",
    "\n",
    "def is_balanced(root):\n",
    "    return check_height(root) != -1\n",
    "\n",
    "root = TreeNode(1)\n",
    "root.left = TreeNode(2)\n",
    "root.right = TreeNode(3)\n",
    "root.left.left = TreeNode(4)\n",
    "root.left.right = TreeNode(5)\n",
    "root.right.right = TreeNode(6)\n",
    "\n",
    "print(is_balanced(root))  "
   ]
  },
  {
   "cell_type": "markdown",
   "metadata": {},
   "source": [
    "Questao 2"
   ]
  },
  {
   "cell_type": "code",
   "execution_count": null,
   "metadata": {},
   "outputs": [],
   "source": [
    "class RandomStack:\n",
    "    def __init__(self):\n",
    "        self.stack = []\n",
    "    \n",
    "    def push(self, item):\n",
    "        self.stack.append(item)\n",
    "    \n",
    "    def pop(self):\n",
    "        if not self.stack:\n",
    "            raise IndexError(\"pop from empty stack\")\n",
    "        \n",
    "        random_index = random.randint(0, len(self.stack) - 1)\n",
    "        \n",
    "        self.stack[random_index], self.stack[-1] = self.stack[-1], self.stack[random_index]\n",
    "        \n",
    "        return self.stack.pop()\n",
    "\n",
    "    def is_empty(self):\n",
    "        \"\"\"Verifica se a pilha está vazia\"\"\"\n",
    "        return len(self.stack) == 0\n",
    "\n",
    "    def size(self):\n",
    "        \"\"\"Retorna o tamanho da pilha\"\"\"\n",
    "        return len(self.stack)\n",
    "\n",
    "def test_random_stack():\n",
    "    rs = RandomStack()\n",
    "    \n",
    "    rs.push(10)\n",
    "    rs.push(20)\n",
    "    rs.push(30)\n",
    "    rs.push(40)\n",
    "    rs.push(50)\n",
    "    assert rs.size() == 5\n",
    "    \n",
    "    popped_item = rs.pop()\n",
    "    for i in range(len(rs.stack)):\n",
    "        print(rs.stack[i])\n",
    "    assert popped_item in [10, 20, 30, 40, 50]\n",
    "    assert rs.size() == 4\n",
    "    \n",
    "    rs.pop()\n",
    "    rs.pop()\n",
    "    rs.pop()\n",
    "    rs.pop()\n",
    "    assert rs.is_empty() == True\n",
    "    \n",
    "    try:\n",
    "        rs.pop()\n",
    "    except IndexError as e:\n",
    "        assert str(e) == \"pop from empty stack\"\n",
    "    \n",
    "    print(\"Todos os testes foram bem sucedidos\")\n",
    "\n",
    "test_random_stack()\n"
   ]
  },
  {
   "cell_type": "markdown",
   "metadata": {},
   "source": [
    "Questao 3"
   ]
  },
  {
   "cell_type": "markdown",
   "metadata": {},
   "source": [
    "a) Cada nó da árvore deve armazenar primeiramente algum dado (um inteiro, em geral) - e um ponteiro para cada um dos filhos: um ponteiro para o filho da esquerda, e um ponteiro para o filho da direita (pro nó filho). Segue abaixo uma exemplificação (código em C)"
   ]
  },
  {
   "cell_type": "code",
   "execution_count": null,
   "metadata": {
    "vscode": {
     "languageId": "bat"
    }
   },
   "outputs": [],
   "source": [
    "struct arvno {\n",
    "  int info;\n",
    "  ArvNo* esq;\n",
    "  ArvNo* dir;\n",
    "};\n"
   ]
  },
  {
   "cell_type": "markdown",
   "metadata": {},
   "source": [
    "b) Para adicionar um novo filho na árvore, temos de receber como input ponteiros de quem são seus filhos. Daí allocar espaço na memória pra ele primeiramente. Então, setar o valor que ele vai receber e setar seus filhos de acordo. Abaixo segue o código para clarificação (em C)"
   ]
  },
  {
   "cell_type": "code",
   "execution_count": null,
   "metadata": {
    "vscode": {
     "languageId": "bat"
    }
   },
   "outputs": [],
   "source": [
    "ArvNo* cria_no (int v, ArvNo* esq, ArvNo* dir)\n",
    "{\n",
    "  ArvNo* p = (ArvNo*)malloc(sizeof(ArvNo));\n",
    "  if (p != NULL) {\n",
    "    p->info = v;\n",
    "    p->esq = esq;\n",
    "    p->dir = dir;\n",
    "  }\n",
    "  return p;\n",
    "}"
   ]
  },
  {
   "cell_type": "markdown",
   "metadata": {},
   "source": [
    "c) Para percorrer a árvore podemos utilizar algoritmos de busca/passeios em grafos como DFS e BFS."
   ]
  },
  {
   "cell_type": "markdown",
   "metadata": {},
   "source": [
    "Questoes 4 e 5"
   ]
  },
  {
   "cell_type": "code",
   "execution_count": null,
   "metadata": {},
   "outputs": [],
   "source": [
    "\n",
    "def gerar_pontos(N, distribuicao):\n",
    "    if distribuicao == 'uniforme':\n",
    "        x = np.random.uniform(-1, 1, N)\n",
    "        y = np.random.uniform(-1, 1, N)\n",
    "    elif distribuicao == 'normal':\n",
    "        x = np.random.normal(0, 0.5, N)\n",
    "        y = np.random.normal(0, 0.5, N)\n",
    "    elif distribuicao == 't':\n",
    "        x = np.random.standard_t(0.5, N)  # Nota: a distribuição t de Student não tem uma média definida para todos os graus de liberdade\n",
    "        y = np.random.standard_t(0.5, N)\n",
    "    else:\n",
    "        raise ValueError(\"Distribuição inválida. Escolha 'uniforme', 'normal' ou 't'.\")\n",
    "\n",
    "    return np.array(list(zip(x, y)))\n",
    "\n",
    "def calcular_fecho_convexo(pontos):\n",
    "    hull = ConvexHull(pontos)\n",
    "    return pontos[hull.vertices]\n",
    "\n",
    "def main():\n",
    "    N = int(input(\"Digite a quantidade de pontos: \"))\n",
    "\n",
    "    distribuicao = input(\"Diga qual distribuição deseja (uniforme, normal, t): \").lower()\n",
    "    \n",
    "    try:\n",
    "        pontos = gerar_pontos(N, distribuicao)\n",
    "        print(\"Pontos gerados:\")\n",
    "        print(pontos)\n",
    "\n",
    "        pontos_fecho = calcular_fecho_convexo(pontos)\n",
    "        print(\"Pontos que pertencem ao fecho convexo:\")\n",
    "        print(pontos_fecho)\n",
    "\n",
    "        plt.figure()\n",
    "        plt.plot(pontos[:, 0], pontos[:, 1], 'o', label='Pontos gerados')\n",
    "        plt.plot(pontos_fecho[:, 0], pontos_fecho[:, 1], 'r-', lw=2, label='Fecho Convexo')\n",
    "        plt.fill(pontos_fecho[:, 0], pontos_fecho[:, 1], 'r', alpha=0.3)\n",
    "        plt.title(\"Fecho Convexo dos Pontos Gerados\")\n",
    "        plt.legend()\n",
    "        plt.grid()\n",
    "        plt.show()\n",
    "    except ValueError as e:\n",
    "        print(e)    \n",
    "\n",
    "if __name__ == \"__main__\":\n",
    "    main()\n"
   ]
  },
  {
   "cell_type": "markdown",
   "metadata": {},
   "source": []
  }
 ],
 "metadata": {
  "language_info": {
   "name": "python"
  }
 },
 "nbformat": 4,
 "nbformat_minor": 2
}

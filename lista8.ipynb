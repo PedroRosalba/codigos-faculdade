{
 "cells": [
  {
   "cell_type": "code",
   "execution_count": null,
   "metadata": {
    "vscode": {
     "languageId": "plaintext"
    }
   },
   "outputs": [],
   "source": [
    "import numpy as np\n",
    "import matplotlib.pyplot as plt\n",
    "from sklearn.model_selection import train_test_split\n",
    "from sklearn.metrics import mean_squared_error\n",
    "from scipy.optimize import minimize\n",
    "import os"
   ]
  },
  {
   "cell_type": "markdown",
   "metadata": {},
   "source": [
    "Questao 1"
   ]
  },
  {
   "cell_type": "code",
   "execution_count": null,
   "metadata": {
    "vscode": {
     "languageId": "plaintext"
    }
   },
   "outputs": [],
   "source": [
    "class PolynomialFitter:\n",
    "    def __init__(self, degree):\n",
    "        self.degree = degree\n",
    "        self.coefficients = None\n",
    "\n",
    "    def fit(self, x, y):\n",
    "        A = np.vander(x, self.degree + 1)\n",
    "        self.coefficients = np.linalg.lstsq(A, y, rcond=None)[0]\n",
    "\n",
    "    def predict(self, x):\n",
    "        if self.coefficients is None:\n",
    "            raise ValueError(\"O polinômio ainda não foi ajustado. Execute o método fit primeiro.\")\n",
    "        return np.polyval(self.coefficients, x)\n",
    "\n",
    "    def plot(self, x, y):\n",
    "        if self.coefficients is None:\n",
    "            raise ValueError(\"O polinômio ainda não foi ajustado. Execute o método fit primeiro.\")\n",
    "        \n",
    "        plt.scatter(x, y, label=\"Dados\", color=\"blue\")\n",
    "        \n",
    "        x_fit = np.linspace(min(x), max(x), 500)\n",
    "        y_fit = self.predict(x_fit)\n",
    "        \n",
    "        plt.plot(x_fit, y_fit, label=f\"Polinômio grau {self.degree}\", color=\"red\")\n",
    "        plt.legend()\n",
    "        plt.xlabel(\"x\")\n",
    "        plt.ylabel(\"y\")\n",
    "        plt.title(\"Ajuste de polinômio\")\n",
    "        plt.grid(True)\n",
    "        plt.show()\n",
    "\n",
    "\n",
    "if __name__ == \"__main__\":\n",
    "    x_points = np.array([0, 1, 2, 3, 4, 5])\n",
    "    y_points = np.array([1, 2, 1.5, 3.5, 2, 5])\n",
    "\n",
    "    degree = int(input(\"Digite o grau \"))\n",
    "\n",
    "    fitter = PolynomialFitter(degree)\n",
    "    fitter.fit(x_points, y_points)\n",
    "    fitter.plot(x_points, y_points)\n"
   ]
  },
  {
   "cell_type": "markdown",
   "metadata": {},
   "source": [
    "Questao 2"
   ]
  },
  {
   "cell_type": "code",
   "execution_count": null,
   "metadata": {
    "vscode": {
     "languageId": "plaintext"
    }
   },
   "outputs": [],
   "source": [
    "class PolynomialDegreeSelector:\n",
    "    def __init__(self, max_degree):\n",
    "        self.max_degree = max_degree\n",
    "        self.best_degree = None\n",
    "        self.errors = []\n",
    "\n",
    "    def find_best_degree(self, x, y):\n",
    "        \n",
    "        # Dividimos os dados em conjunto de treinamento e validação (30% - 70%)\n",
    "        x_train, x_val, y_train, y_val = train_test_split(x, y, test_size=0.3, random_state=42)\n",
    "        \n",
    "        self.errors = []\n",
    "        \n",
    "        for degree in range(1, self.max_degree + 1):\n",
    "            A_train = np.vander(x_train, degree + 1)\n",
    "            coefficients = np.linalg.lstsq(A_train, y_train, rcond=None)[0]\n",
    "            \n",
    "            A_val = np.vander(x_val, degree + 1)\n",
    "            y_pred = A_val @ coefficients\n",
    "            \n",
    "            # Calcular o erro no conjunto de validação\n",
    "            mse = mean_squared_error(y_val, y_pred)\n",
    "            self.errors.append(mse)\n",
    "        \n",
    "        self.best_degree = np.argmin(self.errors) + 1\n",
    "        return self.best_degree\n",
    "\n",
    "    def plot_errors(self):\n",
    "        if not self.errors:\n",
    "            raise ValueError(\"Nenhum erro calculado. Execute `find_best_degree` primeiro.\")\n",
    "        \n",
    "        plt.plot(range(1, self.max_degree + 1), self.errors, marker='o')\n",
    "        plt.xlabel(\"Grau do Polinômio\")\n",
    "        plt.ylabel(\"Erro Quadrático Médio (MSE)\")\n",
    "        plt.title(\"Erro de Validação vs. Grau do Polinômio\")\n",
    "        plt.grid(True)\n",
    "        plt.show()\n",
    "\n",
    "\n",
    "if __name__ == \"__main__\":\n",
    "    np.random.seed(42)\n",
    "    x = np.linspace(0, 10, 100)\n",
    "    y = 3 * x**3 - 2 * x**2 + x + np.random.normal(scale=100, size=x.shape)\n",
    "\n",
    "    max_degree = 10\n",
    "\n",
    "    selector = PolynomialDegreeSelector(max_degree)\n",
    "    best_degree = selector.find_best_degree(x, y)\n",
    "    print(f\"Melhor grau de polinômio encontrado: {best_degree}\")\n",
    "\n",
    "    selector.plot_errors()\n",
    "\n",
    "    fitter = PolynomialFitter(best_degree)\n",
    "    fitter.fit(x, y)\n",
    "    fitter.plot(x, y)\n"
   ]
  },
  {
   "cell_type": "markdown",
   "metadata": {},
   "source": [
    "Questao 3 - item a)"
   ]
  },
  {
   "cell_type": "code",
   "execution_count": null,
   "metadata": {
    "vscode": {
     "languageId": "plaintext"
    }
   },
   "outputs": [],
   "source": [
    "def objective(params, x, y):\n",
    "    a, b = params\n",
    "    return np.sum(np.abs(a * x + b - y))\n",
    "\n",
    "def fit_linear_function(x, y):\n",
    "    initial_guess = [0, 0]\n",
    "    \n",
    "    result = minimize(objective, initial_guess, args=(x, y), method='BFGS')\n",
    "    \n",
    "    if result.success:\n",
    "        return result.x  # Retorna os coeficientes a e b\n",
    "    else:\n",
    "        raise ValueError(\"A otimização falhou.\")\n",
    "\n",
    "def plot_fit(x, y, a, b):\n",
    "    plt.scatter(x, y, label=\"Dados\", color=\"blue\")\n",
    "    x_fit = np.linspace(min(x), max(x), 100)\n",
    "    y_fit = a * x_fit + b\n",
    "    plt.plot(x_fit, y_fit, label=f\"y = {a:.2f}x + {b:.2f}\", color=\"red\")\n",
    "    plt.xlabel(\"x\")\n",
    "    plt.ylabel(\"y\")\n",
    "    plt.legend()\n",
    "    plt.title(\"Ajuste Linear por Minimização do Erro Absoluto\")\n",
    "    plt.grid(True)\n",
    "    plt.show()\n",
    "\n",
    "if __name__ == \"__main__\":\n",
    "    x = np.array([1, 2, 3, 4, 5])\n",
    "    y = np.array([2, 4, 5, 4, 5])\n",
    "\n",
    "    a, b = fit_linear_function(x, y)\n",
    "    print(f\"Coeficientes ajustados: a = {a:.4f}, b = {b:.4f}\")\n",
    "\n",
    "    plot_fit(x, y, a, b)\n"
   ]
  },
  {
   "cell_type": "markdown",
   "metadata": {},
   "source": [
    "Questao 3 - item b)"
   ]
  },
  {
   "cell_type": "code",
   "execution_count": null,
   "metadata": {
    "vscode": {
     "languageId": "plaintext"
    }
   },
   "outputs": [],
   "source": [
    "def generate_points(m):\n",
    "    np.random.seed(1)\n",
    "    a = 6\n",
    "    b = -3\n",
    "    x = np.linspace(0, 10, m)\n",
    "    y = a * x + b + np.random.standard_cauchy(size=m)\n",
    "    return (x, y)\n",
    "\n",
    "def save_points(points, path='test_points.txt'):\n",
    "    os.makedirs(os.path.dirname(path), exist_ok=True)\n",
    "    with open(path, 'wt') as f:\n",
    "        for x, y in zip(points[0], points[1]):\n",
    "            f.write(f'{x} {y}\\n')\n",
    "\n",
    "def objective(params, x, y):\n",
    "    a, b = params\n",
    "    return np.sum(np.abs(a * x + b - y))\n",
    "\n",
    "def fit_linear_function(x, y):\n",
    "    initial_guess = [0, 0]\n",
    "    result = minimize(objective, initial_guess, args=(x, y), method='BFGS')\n",
    "    if result.success:\n",
    "        return result.x  # Retorna os coeficientes a e b\n",
    "    else:\n",
    "        raise ValueError(\"A otimização falhou.\")\n",
    "\n",
    "def process_points(m_values, output_dir='CodigosExcercicios/Resultados'):\n",
    "    os.makedirs(output_dir, exist_ok=True)\n",
    "    \n",
    "    for m in m_values:\n",
    "        points = generate_points(m)\n",
    "        \n",
    "        a, b = fit_linear_function(points[0], points[1])\n",
    "        \n",
    "        file_path = f'{output_dir}/points_{m}.txt'\n",
    "        save_points(points, file_path)\n",
    "        \n",
    "        result_path = f'{output_dir}/result_{m}.txt'\n",
    "        with open(result_path, 'wt') as f:\n",
    "            f.write(f'Coeficientes ajustados para m = {m}:\\n')\n",
    "            f.write(f'a = {a:.4f}, b = {b:.4f}\\n')\n",
    "\n",
    "if __name__ == \"__main__\":\n",
    "    m_values = [64, 128, 256, 512, 1024]\n",
    "    process_points(m_values)\n"
   ]
  },
  {
   "cell_type": "markdown",
   "metadata": {},
   "source": [
    "Questao 3 - item c)"
   ]
  },
  {
   "cell_type": "code",
   "execution_count": null,
   "metadata": {
    "vscode": {
     "languageId": "plaintext"
    }
   },
   "outputs": [],
   "source": [
    "def objective_squared(params, x, y):\n",
    "    a, b = params\n",
    "    return np.sum((a * x + b - y) ** 2)\n",
    "\n",
    "def fit_linear_function_squared(x, y):\n",
    "    initial_guess = [0, 0]\n",
    "    \n",
    "    result = minimize(objective_squared, initial_guess, args=(x, y), method='BFGS')\n",
    "    \n",
    "    if result.success:\n",
    "        return result.x  # Retorna os coeficientes a e b\n",
    "    else:\n",
    "        raise ValueError(\"A otimização falhou.\")\n",
    "\n",
    "def plot_fit(x, y, a, b):\n",
    "    plt.scatter(x, y, label=\"Dados\", color=\"blue\")\n",
    "    x_fit = np.linspace(min(x), max(x), 100)\n",
    "    y_fit = a * x_fit + b\n",
    "    plt.plot(x_fit, y_fit, label=f\"y = {a:.2f}x + {b:.2f}\", color=\"red\")\n",
    "    plt.xlabel(\"x\")\n",
    "    plt.ylabel(\"y\")\n",
    "    plt.legend()\n",
    "    plt.title(\"Ajuste Linear por Minimização do Erro Quadrático\")\n",
    "    plt.grid(True)\n",
    "    plt.show()\n",
    "\n",
    "\n",
    "if __name__ == \"__main__\":\n",
    "    x = np.array([1, 2, 3, 4, 5])\n",
    "    y = np.array([2, 4, 5, 4, 5])\n",
    "\n",
    "    a, b = fit_linear_function_squared(x, y)\n",
    "    print(f\"Coeficientes ajustados: a = {a:.4f}, b = {b:.4f}\")\n",
    "\n",
    "    plot_fit(x, y, a, b)\n"
   ]
  },
  {
   "cell_type": "markdown",
   "metadata": {},
   "source": [
    "Questao 3 - item d)\n",
    "Os plots ja foram feitos ao longo dos itens acima."
   ]
  },
  {
   "cell_type": "markdown",
   "metadata": {},
   "source": [
    "Questao 3 - item e)\n",
    "\n",
    "O metodo do Erro Absoluto e mais robusto contra outliers, ideal para dados com valores atípicos que podem distorcer a análise. Ja o do erro quadrático penaliza erros maiores de forma mais forte, sendo mais eficaz quando os erros grandes não devem ser ignorados e com boa propriedade matemática para otimização."
   ]
  }
 ],
 "metadata": {
  "language_info": {
   "name": "python"
  }
 },
 "nbformat": 4,
 "nbformat_minor": 2
}
